{
  "metadata": {
    "config": {
      "dependencies": {},
      "exclusions": [],
      "repositories": [],
      "env": {}
    },
    "language_info": {
      "name": "scala"
    }
  },
  "nbformat": 4,
  "nbformat_minor": 0,
  "cells": [
    {
      "cell_type": "markdown",
      "metadata": {
        "language": "text"
      },
      "language": "text",
      "source": [
        "\n",
        "# Let’s start with data pipeline\n",
        "\n",
        "## What\n",
        "\n",
        "According to [Wikipedia](https://en.wikipedia.org/wiki/Pipeline_(computing)), \"In computing, a pipeline, also known as a data pipeline, is a set of data processing elements connected in series, where the output of one element is the input of   the next one. The elements of a pipeline are often executed in parallel or in time-sliced fashion.\".\n",
        "\n",
        "## Why\n",
        "\n",
        "In the Post Industrial Society, the 70% of workforce is working in tertiary sector meanwhile primary and secondary sectors are heavily automated. Moreover, in the age of social media, all human activity is built around exchange of data. Our world, including the economy, is literally built around data processing. Data pipeline is way to organize and implement this activity in a sustainable way.    \n",
        "\n",
        "## When\n",
        "\n",
        "Data processing predates the [Turing machine](https://en.wikipedia.org/wiki/Turing_machine) of Alan Turing in 1936. In fact the first [tabulating machines](https://en.wikipedia.org/wiki/Tabulating_machine) were used for 1890 US Census and later models were widely used for accounting and inventory control. \n",
        "\n",
        "Nevertheless the rise of data pipelines is tightly linked to [IBM](https://en.wikipedia.org/wiki/IBM#:~:text=IBM%20was%20founded%20in%201911,operations%20in%20over%20170%20countries.) and the [BUNCH](https://en.wikipedia.org/wiki/BUNCH#:~:text=The%20BUNCH%20was%20the%20nickname,(CDC)%2C%20and%20Honeywell.) in the 1960s. \n",
        "\n",
        "## Where\n",
        "\n",
        "Today’s [Big Tech](https://en.wikipedia.org/wiki/Big_Tech) companies are the key contributors of Data pipelines technologies. \n",
        "Today’s data pipeline are mainly executed thanks to [Cloud Computing](https://en.wikipedia.org/wiki/Cloud_computing) everywhere in the world. \n",
        "\n",
        "Contrary to some popular belief, and despite the rise of machine learning, IEA says that energy consumption of data centers is [~ constant since 2010](https://www.iea.org/reports/data-centres-and-data-transmission-networks). \n",
        " \n",
        "## Who\n",
        "\n",
        "Actors are multiple and the ecosystem everchanging. \n",
        "\n",
        "A comprehensive [map](http://mattturck.com/wp-content/uploads/2020/09/2020-Data-and-AI-Landscape-Matt-Turck-at-FirstMark-v1.pdf) \n",
        "from [Matt Turck’s 2020 Data & AI Landscape](https://mattturck.com/data2020/) presents the 2020 updates. \n",
        "\n",
        "## How\n",
        "\n",
        "Today situation is extremely fuzzy and complex. Matt’s [map](http://mattturck.com/wp-content/uploads/2020/09/2020-Data-and-AI-Landscape-Matt-Turck-at-FirstMark-v1.pdf) shows the multiplicity of technologies and actors in the market. \n",
        "\n",
        "# The program\n",
        "\n",
        "The data-pipeline-training will focus on a small subset of technologies and principles. \n",
        "\n",
        "We will learn the basics of Scala, and then build upon these foundations to:\n",
        "* Learn the basics of data processing\n",
        "* Develop simple batch data processing pipeline using scala and spark\n",
        "* Study basic data processing issues such as encoding and time management\n",
        "* Create and document our own data pipeline project\n",
        "* Learn to comply with data controller [GDPR checklist](https://gdpr.eu/checklist/)\n"
      ]
    }
  ]
}