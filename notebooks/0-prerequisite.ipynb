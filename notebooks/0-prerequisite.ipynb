{
  "metadata": {
    "config": {
      "dependencies": {},
      "exclusions": [],
      "repositories": [],
      "env": {}
    },
    "language_info": {
      "name": "scala"
    },
    "kernelspec": {
      "name": "spylon-kernel",
      "display_name": "spylon-kernel"
    }
  },
  "nbformat": 4,
  "nbformat_minor": 0,
  "cells": [
    {
      "cell_type": "markdown",
      "metadata": {
        "language": "text"
      },
      "language": "text",
      "source": [
        "# Prerequisites\n",
        "\n",
        "The prerequisites are:\n",
        "* Good knowledge of Java programming\n",
        "* SQL databases\n",
        "* Principles of architecture\n",
        "* Principles of software development lifecycle\n",
        "* Principles of security: Confidentiality, Integrity, Availability\n",
        "* [OWASP Top 10](https://owasp.org/www-project-top-ten/)\n",
        "* [Practical data ethics](https://ethics.fast.ai/)\n",
        "* [Enterprise Integration Patterns](https://www.enterpriseintegrationpatterns.com/)\n",
        "* Principles of [Hadoop](https://hadoop.apache.org/) architecture\n",
        "* [Kafka Tutorials](https://kafka-tutorials.confluent.io/)\n",
        "* [AWS EMR](https://aws.amazon.com/emr) and [CloudFormation](https://aws.amazon.com/cloudformation/) to deploy our data pipeline in AWS \n",
        "* [HDInsight](https://azure.microsoft.com/en-us/services/hdinsight/) to deploy our data pipeline in Microsoft Azure\n",
        "* [GCP](https://cloud.google.com/) to deploy our data pipeline in Google Cloud Platform\n"
      ]
    },
    {
      "source": [
        "# Good knowledge of Java Programming\n",
        "\n",
        "You must be able to answer the following questions:\n",
        "* Describe object oriented programming ?\n",
        "* What is Java ?\n",
        "* How to write a class ?\n",
        "* What is a loop ?\n",
        "* What is an array ?\n",
        "* What libraries have you used ?\n",
        "* How to read / write a file ?\n",
        "* How to structure a program ?\n",
        "* How to package and run a program ?\n",
        "* What is Maven ?\n",
        "* What Maven plugins do you know ?\n",
        "* How do you write tests in Java ?"
      ],
      "cell_type": "markdown",
      "metadata": {
        "language": "scala"
      }
    },
    {
      "source": [
        "# SQL Database\n",
        "\n",
        "You must be able to answer the following questions:\n",
        "* What is a SQL Database ?\n",
        "* What is the relationship between SQL Database and Mathematics ?\n",
        "* What is a normal form ?\n",
        "* How do you create a table in SQL ?\n",
        "* How do you create a view in SQL ?\n",
        "* How do you create / use a stored procedure ?\n",
        "* How do you query your data ?\n",
        "* What kind of join do you know ? How it works ?\n",
        "* How is a database is optimizing your queries ?\n",
        "* What is the difference between MySQL and MariaDB ?\n",
        "* What do you know about Oracle ?\n",
        "* What do you think about the NULL value ?\n",
        "* How would you avoid the use of NULL ?\n",
        "* Do you know cases of a query returning different results with the same data ? Why ? How can you fix it ?\n",
        "* How do you protect your data against illegal access from a third party ?\n",
        "* How would you safeguard your database against performance issues in production ?\n",
        "* Can you explain how a query is executed ?\n",
        "* What language / libraries did you use to access database ?\n",
        "* What is a transaction ? What transaction level do you know ?\n",
        "* What is a lock ? What kind of locking strategies do you know ?\n",
        "\n"
      ],
      "cell_type": "markdown",
      "metadata": {
        "language": "scala"
      }
    },
    {
      "source": [],
      "cell_type": "markdown",
      "metadata": {}
    },
    {
      "source": [
        "# Principle of architecture"
      ],
      "cell_type": "markdown",
      "metadata": {}
    },
    {
      "source": [
        "# Principle of Software Development Lifecycle"
      ],
      "cell_type": "markdown",
      "metadata": {}
    },
    {
      "source": [
        "# Principle of software security: Confidentiality, Integrity, Availability, Auditability"
      ],
      "cell_type": "markdown",
      "metadata": {}
    },
    {
      "source": [
        "# OWASP Top 10"
      ],
      "cell_type": "markdown",
      "metadata": {}
    },
    {
      "source": [
        "# Practical of data ethics"
      ],
      "cell_type": "markdown",
      "metadata": {}
    },
    {
      "source": [
        "# Enterprise Integration Patterns"
      ],
      "cell_type": "markdown",
      "metadata": {}
    },
    {
      "source": [
        "# Principles of Hadoop Architecture"
      ],
      "cell_type": "markdown",
      "metadata": {}
    },
    {
      "source": [
        "# Principles of Kafka"
      ],
      "cell_type": "markdown",
      "metadata": {}
    },
    {
      "source": [
        "# Principle of AWS EMR"
      ],
      "cell_type": "markdown",
      "metadata": {}
    },
    {
      "source": [
        "# Principles of CloudFormation"
      ],
      "cell_type": "markdown",
      "metadata": {}
    }
  ]
}